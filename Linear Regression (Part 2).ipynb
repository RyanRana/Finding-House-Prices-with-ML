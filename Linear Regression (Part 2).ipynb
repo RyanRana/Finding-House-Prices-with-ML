{
 "cells": [
  {
   "cell_type": "code",
   "execution_count": 27,
   "metadata": {},
   "outputs": [],
   "source": [
    "import pandas as pd\n",
    "import numpy as np\n",
    "import matplotlib.pyplot as plt\n",
    "from sklearn import linear_model"
   ]
  },
  {
   "cell_type": "code",
   "execution_count": 28,
   "metadata": {},
   "outputs": [],
   "source": [
    "X = pd.read_csv(\"Clean_Data.csv\")"
   ]
  },
  {
   "cell_type": "code",
   "execution_count": 29,
   "metadata": {},
   "outputs": [],
   "source": [
    "Y = pd.read_csv(\"Ydata.csv\")\n",
    "X = pd.DataFrame(X['LotArea'].values)\n",
    "X=X[0:1459]"
   ]
  },
  {
   "cell_type": "code",
   "execution_count": 30,
   "metadata": {},
   "outputs": [
    {
     "data": {
      "text/plain": [
       "(1459, 1)"
      ]
     },
     "execution_count": 30,
     "metadata": {},
     "output_type": "execute_result"
    }
   ],
   "source": [
    "X.shape"
   ]
  },
  {
   "cell_type": "code",
   "execution_count": 31,
   "metadata": {},
   "outputs": [
    {
     "data": {
      "text/plain": [
       "LinearRegression(copy_X=True, fit_intercept=True, n_jobs=None, normalize=False)"
      ]
     },
     "execution_count": 31,
     "metadata": {},
     "output_type": "execute_result"
    }
   ],
   "source": [
    "linreg = linear_model.LinearRegression()   #instantiate linear regression\n",
    "\n",
    "linreg.fit(X,Y)"
   ]
  },
  {
   "cell_type": "code",
   "execution_count": 32,
   "metadata": {},
   "outputs": [
    {
     "name": "stdout",
     "output_type": "stream",
     "text": [
      "[178915.10251281]\n",
      "[[0.1889463]]\n"
     ]
    }
   ],
   "source": [
    "print(linreg.intercept_)  # intercept i.e c\n",
    "print(linreg.coef_) #slope i.e m"
   ]
  },
  {
   "cell_type": "code",
   "execution_count": 33,
   "metadata": {},
   "outputs": [
    {
     "name": "stdout",
     "output_type": "stream",
     "text": [
      "[[178915.29145911]]\n",
      "[[178915.29145911]]\n",
      "[[ True]]\n"
     ]
    }
   ],
   "source": [
    "my_pred1 = linreg.coef_*1 +linreg.intercept_ \n",
    "print(my_pred1)\n",
    "#-----------------------------------------------------------\n",
    "my_pred2= linreg.predict([[1]])\n",
    "print(my_pred2)\n",
    "print(my_pred1 == my_pred2)"
   ]
  },
  {
   "cell_type": "code",
   "execution_count": 35,
   "metadata": {},
   "outputs": [
    {
     "data": {
      "image/png": "[encoded data removed]",
      "text/plain": [
       "<Figure size 432x288 with 1 Axes>"
      ]
     },
     "metadata": {
      "needs_background": "light"
     },
     "output_type": "display_data"
    }
   ],
   "source": [
    "prediction_space = np.linspace(min(X),max(X)).reshape(-1,1)\n",
    "y_pred = linreg.predict(prediction_space)  #predict price for a range of nomber of rooms\n",
    "plt.scatter(X,Y, color='orange')\n",
    "plt.scatter(prediction_space,y_pred,color='blue')\n",
    "plt.xlabel(\"# Rooms\")\n",
    "plt.ylabel(\"Value of house /1000\")\n",
    "plt.show()"
   ]
  },
  {
   "cell_type": "code",
   "execution_count": null,
   "metadata": {},
   "outputs": [],
   "source": []
  }
 ],
 "metadata": {
  "kernelspec": {
   "display_name": "Python 3",
   "language": "python",
   "name": "python3"
  },
  "language_info": {
   "codemirror_mode": {
    "name": "ipython",
    "version": 3
   },
   "file_extension": ".py",
   "mimetype": "text/x-python",
   "name": "python",
   "nbconvert_exporter": "python",
   "pygments_lexer": "ipython3",
   "version": "3.8.3"
  }
 },
 "nbformat": 4,
 "nbformat_minor": 2
}
